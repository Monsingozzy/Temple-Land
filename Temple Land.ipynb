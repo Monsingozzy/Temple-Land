{
 "cells": [
  {
   "cell_type": "markdown",
   "metadata": {},
   "source": [
    "# Question 3 : Temple Land"
   ]
  },
  {
   "cell_type": "code",
   "execution_count": null,
   "metadata": {},
   "outputs": [],
   "source": [
    "for i in range(int(input())): \n",
    "    c,n=1,int(input())\n",
    "   \n",
    "m=list(map(int,input().split())) #input all in map and convert into list\n",
    "    if m[0]==1 and m[-1]==1 and n%2!=0 and m.count(max(m))==1: #check condition first value and last value and max value is equal to 1\n",
    "        for i in range(1,n):\n",
    "            if abs(m[i]-m[i-1])==1: #take abs value if condition value - last value is equal to 1 then increment c\n",
    "                c+=1\n",
    "        if c==n: #check if the value is c then print yes otherwise no\n",
    "            print(\"yes\")\n",
    "        else:\n",
    "            print(\"no\")\n",
    "    else:                #if first condition fails print no\n",
    "        print(\"no\")"
   ]
  },
  {
   "cell_type": "markdown",
   "metadata": {},
   "source": [
    "## step1 : taking input also as range for number of strips \n",
    "## step2 : next input numbers wich is hight \n",
    "## step3 : we access list value its input as map key with values every value as key \n",
    "## step4 : here checking first value and last value and maximumm value is 1 then process \n",
    "## step5 : check the m[i] value is equal to 1 then increment c n \n",
    "## step6 : if any increment happen in c then print \"yes\" else \"no\""
   ]
  },
  {
   "cell_type": "code",
   "execution_count": null,
   "metadata": {},
   "outputs": [],
   "source": []
  }
 ],
 "metadata": {
  "kernelspec": {
   "display_name": "Python 3",
   "language": "python",
   "name": "python3"
  },
  "language_info": {
   "codemirror_mode": {
    "name": "ipython",
    "version": 3
   },
   "file_extension": ".py",
   "mimetype": "text/x-python",
   "name": "python",
   "nbconvert_exporter": "python",
   "pygments_lexer": "ipython3",
   "version": "3.7.9"
  }
 },
 "nbformat": 4,
 "nbformat_minor": 4
}
